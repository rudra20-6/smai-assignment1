{
 "cells": [
  {
   "cell_type": "code",
   "execution_count": null,
   "metadata": {},
   "outputs": [
    {
     "name": "stdout",
     "output_type": "stream",
     "text": [
      "Requirement already satisfied: numpy in c:\\users\\choud\\onedrive\\desktop\\newcollegedocs\\2-2\\smai\\a1\\smai-assignment1\\.venv\\lib\\site-packages (2.2.2)\n",
      "Requirement already satisfied: scikit-learn in c:\\users\\choud\\onedrive\\desktop\\newcollegedocs\\2-2\\smai\\a1\\smai-assignment1\\.venv\\lib\\site-packages (1.6.1)\n",
      "Requirement already satisfied: pandas in c:\\users\\choud\\onedrive\\desktop\\newcollegedocs\\2-2\\smai\\a1\\smai-assignment1\\.venv\\lib\\site-packages (2.2.3)\n",
      "Requirement already satisfied: scipy>=1.6.0 in c:\\users\\choud\\onedrive\\desktop\\newcollegedocs\\2-2\\smai\\a1\\smai-assignment1\\.venv\\lib\\site-packages (from scikit-learn) (1.15.1)\n",
      "Requirement already satisfied: joblib>=1.2.0 in c:\\users\\choud\\onedrive\\desktop\\newcollegedocs\\2-2\\smai\\a1\\smai-assignment1\\.venv\\lib\\site-packages (from scikit-learn) (1.4.2)\n",
      "Requirement already satisfied: threadpoolctl>=3.1.0 in c:\\users\\choud\\onedrive\\desktop\\newcollegedocs\\2-2\\smai\\a1\\smai-assignment1\\.venv\\lib\\site-packages (from scikit-learn) (3.5.0)\n",
      "Requirement already satisfied: python-dateutil>=2.8.2 in c:\\users\\choud\\onedrive\\desktop\\newcollegedocs\\2-2\\smai\\a1\\smai-assignment1\\.venv\\lib\\site-packages (from pandas) (2.9.0.post0)\n",
      "Requirement already satisfied: pytz>=2020.1 in c:\\users\\choud\\onedrive\\desktop\\newcollegedocs\\2-2\\smai\\a1\\smai-assignment1\\.venv\\lib\\site-packages (from pandas) (2025.1)\n",
      "Requirement already satisfied: tzdata>=2022.7 in c:\\users\\choud\\onedrive\\desktop\\newcollegedocs\\2-2\\smai\\a1\\smai-assignment1\\.venv\\lib\\site-packages (from pandas) (2025.1)\n",
      "Requirement already satisfied: six>=1.5 in c:\\users\\choud\\onedrive\\desktop\\newcollegedocs\\2-2\\smai\\a1\\smai-assignment1\\.venv\\lib\\site-packages (from python-dateutil>=2.8.2->pandas) (1.17.0)\n"
     ]
    }
   ],
   "source": [
    "! pip install numpy scikit-learn pandas\n",
    "import numpy as np\n",
    "from sklearn.metrics import mean_squared_error, r2_score\n",
    "import pandas as pd\n",
    "import matplotlib as plt"
   ]
  },
  {
   "cell_type": "code",
   "execution_count": 4,
   "metadata": {},
   "outputs": [
    {
     "name": "stdout",
     "output_type": "stream",
     "text": [
      "Learned Weights: [-0.14775694  0.37596948  0.06105074  0.08880955 -0.09514413  0.05597097\n",
      "  0.1473278  -0.07676026]\n",
      "Learned Bias: 0.17026514630684716\n",
      "Test MSE: 0.4749361996371035\n",
      "Test R^2 Score: 0.4507069724345265\n"
     ]
    }
   ],
   "source": [
    "\n",
    "\n",
    "def stochastic_gradient_descent_ridge(X, y, lr=0.01, epochs=1000, lambda_=0.1):\n",
    "    \"\"\"\n",
    "    Perform stochastic gradient descent with Ridge (L2) regularization.\n",
    "\n",
    "    Parameters:\n",
    "    X : numpy.ndarray\n",
    "        Feature matrix (n_samples, n_features)\n",
    "    y : numpy.ndarray\n",
    "        Target values (n_samples,)\n",
    "    lr : float, optional\n",
    "        Learning rate (default is 0.01)\n",
    "    epochs : int, optional\n",
    "        Number of iterations (default is 1000)\n",
    "    lambda_ : float, optional\n",
    "        Regularization strength (default is 0.1)\n",
    "\n",
    "    Returns:\n",
    "    w : numpy.ndarray\n",
    "        Learned weight vector\n",
    "    b : float\n",
    "        Learned bias term\n",
    "    \"\"\"\n",
    "    n_samples, n_features = X.shape\n",
    "    w = np.zeros(n_features)  # Initialize weights\n",
    "    b = 0  # Initialize bias\n",
    "    \n",
    "    for epoch in range(epochs):\n",
    "        for i in range(n_samples):\n",
    "            idx = np.random.randint(0, n_samples)  # Select random sample\n",
    "            X_i, y_i = X[idx], y[idx]\n",
    "            \n",
    "            y_pred = np.dot(X_i, w) + b\n",
    "            error = y_pred - y_i\n",
    "            \n",
    "            # Compute gradients\n",
    "            dw = (X_i * error) + (lambda_ * w)  # L2 regularization term\n",
    "            db = error\n",
    "            \n",
    "            # Update parameters\n",
    "            w -= lr * dw\n",
    "            b -= lr * db\n",
    "    \n",
    "    return w, b\n",
    "\n",
    "# Example usage\n",
    "\n",
    "# Generate some synthetic data\n",
    "train_data = pd.read_csv(\"./srcfiles/train_standardized.csv\")\n",
    "val_data = pd.read_csv(\"./srcfiles/validation_standardized.csv\")\n",
    "\n",
    "# Split features and target\n",
    "X_train = train_data.iloc[:, :-1].values\n",
    "y_train = train_data.iloc[:, -1].values\n",
    "X_val = val_data.iloc[:, :-1].values\n",
    "y_val = val_data.iloc[:, -1].values\n",
    "\n",
    "w, b = stochastic_gradient_descent_ridge(X_train, y_train, lr=0.05, epochs=1000, lambda_=0.5)\n",
    "print(\"Learned Weights:\", w)\n",
    "print(\"Learned Bias:\", b)\n",
    "\n",
    "# Load test set from CSV\n",
    "test_data = pd.read_csv(\"./srcfiles/test_standardized.csv\")\n",
    "X_test = test_data.iloc[:, :-1].values\n",
    "y_test = test_data.iloc[:, -1].values\n",
    "\n",
    "# Predict on test set\n",
    "y_pred_test = np.dot(X_test, w) + b\n",
    "\n",
    "# Calculate MSE and R^2 Score\n",
    "mse = mean_squared_error(y_test, y_pred_test)\n",
    "r2 = r2_score(y_test, y_pred_test)\n",
    "\n",
    "print(\"Test MSE:\", mse)\n",
    "print(\"Test R^2 Score:\", r2)\n"
   ]
  },
  {
   "cell_type": "code",
   "execution_count": null,
   "metadata": {},
   "outputs": [],
   "source": [
    "lambdas = np.linspace(0, 1, 10)\n",
    "mse_values = []\n",
    "\n",
    "for lambda_ in lambdas:\n",
    "    w, b = stochastic_gradient_descent_ridge(X_train, y_train, lr=0.01, epochs=1000, lambda_=lambda_)\n",
    "    y_pred_test = np.dot(X_test, w) + b\n",
    "    mse = mean_squared_error(y_test, y_pred_test)\n",
    "    mse_values.append(mse)\n",
    "\n",
    "# Plot MSE vs Lambda\n",
    "plt.plot(lambdas, mse_values, marker='o')\n",
    "plt.xlabel(\"Lambda\")\n",
    "plt.ylabel(\"Mean Squared Error\")\n",
    "plt.title(\"MSE vs Lambda\")\n",
    "plt.grid()\n",
    "plt.show()"
   ]
  }
 ],
 "metadata": {
  "kernelspec": {
   "display_name": ".venv",
   "language": "python",
   "name": "python3"
  },
  "language_info": {
   "codemirror_mode": {
    "name": "ipython",
    "version": 3
   },
   "file_extension": ".py",
   "mimetype": "text/x-python",
   "name": "python",
   "nbconvert_exporter": "python",
   "pygments_lexer": "ipython3",
   "version": "3.11.2"
  }
 },
 "nbformat": 4,
 "nbformat_minor": 2
}
