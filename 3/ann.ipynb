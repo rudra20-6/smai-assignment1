{
 "cells": [
  {
   "cell_type": "code",
   "execution_count": null,
   "metadata": {},
   "outputs": [
    {
     "ename": "FileNotFoundError",
     "evalue": "[Errno 2] No such file or directory: 'train_embeddings.pth'",
     "output_type": "error",
     "traceback": [
      "\u001b[1;31m---------------------------------------------------------------------------\u001b[0m",
      "\u001b[1;31mFileNotFoundError\u001b[0m                         Traceback (most recent call last)",
      "Cell \u001b[1;32mIn[7], line 61\u001b[0m\n\u001b[0;32m     58\u001b[0m lsh \u001b[38;5;241m=\u001b[39m LSH(num_bits, dim)\n\u001b[0;32m     60\u001b[0m \u001b[38;5;66;03m# Load train embeddings from file\u001b[39;00m\n\u001b[1;32m---> 61\u001b[0m train_embeddings \u001b[38;5;241m=\u001b[39m \u001b[43mtorch\u001b[49m\u001b[38;5;241;43m.\u001b[39;49m\u001b[43mload\u001b[49m\u001b[43m(\u001b[49m\u001b[38;5;124;43m\"\u001b[39;49m\u001b[38;5;124;43mtrain_embeddings.pth\u001b[39;49m\u001b[38;5;124;43m\"\u001b[39;49m\u001b[43m)\u001b[49m\n\u001b[0;32m     62\u001b[0m \u001b[38;5;28;01mfor\u001b[39;00m i, vec \u001b[38;5;129;01min\u001b[39;00m \u001b[38;5;28menumerate\u001b[39m(train_embeddings):\n\u001b[0;32m     63\u001b[0m     lsh\u001b[38;5;241m.\u001b[39minsert(vec, i)\n",
      "File \u001b[1;32mc:\\Users\\choud\\OneDrive\\Desktop\\NewCollegeDocs\\2-2\\SMAI\\a1\\smai-assignment1\\.venv\\Lib\\site-packages\\torch\\serialization.py:1425\u001b[0m, in \u001b[0;36mload\u001b[1;34m(f, map_location, pickle_module, weights_only, mmap, **pickle_load_args)\u001b[0m\n\u001b[0;32m   1422\u001b[0m \u001b[38;5;28;01mif\u001b[39;00m \u001b[38;5;124m\"\u001b[39m\u001b[38;5;124mencoding\u001b[39m\u001b[38;5;124m\"\u001b[39m \u001b[38;5;129;01mnot\u001b[39;00m \u001b[38;5;129;01min\u001b[39;00m pickle_load_args\u001b[38;5;241m.\u001b[39mkeys():\n\u001b[0;32m   1423\u001b[0m     pickle_load_args[\u001b[38;5;124m\"\u001b[39m\u001b[38;5;124mencoding\u001b[39m\u001b[38;5;124m\"\u001b[39m] \u001b[38;5;241m=\u001b[39m \u001b[38;5;124m\"\u001b[39m\u001b[38;5;124mutf-8\u001b[39m\u001b[38;5;124m\"\u001b[39m\n\u001b[1;32m-> 1425\u001b[0m \u001b[38;5;28;01mwith\u001b[39;00m \u001b[43m_open_file_like\u001b[49m\u001b[43m(\u001b[49m\u001b[43mf\u001b[49m\u001b[43m,\u001b[49m\u001b[43m \u001b[49m\u001b[38;5;124;43m\"\u001b[39;49m\u001b[38;5;124;43mrb\u001b[39;49m\u001b[38;5;124;43m\"\u001b[39;49m\u001b[43m)\u001b[49m \u001b[38;5;28;01mas\u001b[39;00m opened_file:\n\u001b[0;32m   1426\u001b[0m     \u001b[38;5;28;01mif\u001b[39;00m _is_zipfile(opened_file):\n\u001b[0;32m   1427\u001b[0m         \u001b[38;5;66;03m# The zipfile reader is going to advance the current file position.\u001b[39;00m\n\u001b[0;32m   1428\u001b[0m         \u001b[38;5;66;03m# If we want to actually tail call to torch.jit.load, we need to\u001b[39;00m\n\u001b[0;32m   1429\u001b[0m         \u001b[38;5;66;03m# reset back to the original position.\u001b[39;00m\n\u001b[0;32m   1430\u001b[0m         orig_position \u001b[38;5;241m=\u001b[39m opened_file\u001b[38;5;241m.\u001b[39mtell()\n",
      "File \u001b[1;32mc:\\Users\\choud\\OneDrive\\Desktop\\NewCollegeDocs\\2-2\\SMAI\\a1\\smai-assignment1\\.venv\\Lib\\site-packages\\torch\\serialization.py:751\u001b[0m, in \u001b[0;36m_open_file_like\u001b[1;34m(name_or_buffer, mode)\u001b[0m\n\u001b[0;32m    749\u001b[0m \u001b[38;5;28;01mdef\u001b[39;00m\u001b[38;5;250m \u001b[39m\u001b[38;5;21m_open_file_like\u001b[39m(name_or_buffer, mode):\n\u001b[0;32m    750\u001b[0m     \u001b[38;5;28;01mif\u001b[39;00m _is_path(name_or_buffer):\n\u001b[1;32m--> 751\u001b[0m         \u001b[38;5;28;01mreturn\u001b[39;00m \u001b[43m_open_file\u001b[49m\u001b[43m(\u001b[49m\u001b[43mname_or_buffer\u001b[49m\u001b[43m,\u001b[49m\u001b[43m \u001b[49m\u001b[43mmode\u001b[49m\u001b[43m)\u001b[49m\n\u001b[0;32m    752\u001b[0m     \u001b[38;5;28;01melse\u001b[39;00m:\n\u001b[0;32m    753\u001b[0m         \u001b[38;5;28;01mif\u001b[39;00m \u001b[38;5;124m\"\u001b[39m\u001b[38;5;124mw\u001b[39m\u001b[38;5;124m\"\u001b[39m \u001b[38;5;129;01min\u001b[39;00m mode:\n",
      "File \u001b[1;32mc:\\Users\\choud\\OneDrive\\Desktop\\NewCollegeDocs\\2-2\\SMAI\\a1\\smai-assignment1\\.venv\\Lib\\site-packages\\torch\\serialization.py:732\u001b[0m, in \u001b[0;36m_open_file.__init__\u001b[1;34m(self, name, mode)\u001b[0m\n\u001b[0;32m    731\u001b[0m \u001b[38;5;28;01mdef\u001b[39;00m\u001b[38;5;250m \u001b[39m\u001b[38;5;21m__init__\u001b[39m(\u001b[38;5;28mself\u001b[39m, name, mode):\n\u001b[1;32m--> 732\u001b[0m     \u001b[38;5;28msuper\u001b[39m()\u001b[38;5;241m.\u001b[39m\u001b[38;5;21m__init__\u001b[39m(\u001b[38;5;28;43mopen\u001b[39;49m\u001b[43m(\u001b[49m\u001b[43mname\u001b[49m\u001b[43m,\u001b[49m\u001b[43m \u001b[49m\u001b[43mmode\u001b[49m\u001b[43m)\u001b[49m)\n",
      "\u001b[1;31mFileNotFoundError\u001b[0m: [Errno 2] No such file or directory: 'train_embeddings.pth'"
     ]
    }
   ],
   "source": [
    "import torch\n",
    "import matplotlib.pyplot as plt\n",
    "from collections import defaultdict\n",
    "import random\n",
    "\n",
    "class LSH:\n",
    "    def __init__(self, num_bits, dim):\n",
    "        \"\"\"\n",
    "        Initialize LSH with random hyperplanes.\n",
    "        :param num_bits: Number of hash functions (i.e., hyperplanes)\n",
    "        :param dim: Dimension of input vectors\n",
    "        \"\"\"\n",
    "        self.num_bits = num_bits\n",
    "        self.dim = dim\n",
    "        self.hyperplanes = torch.randn(num_bits, dim)  # Random hyperplanes\n",
    "        self.hash_table = defaultdict(list)\n",
    "    \n",
    "    def _hash(self, vector):\n",
    "        \"\"\"Compute the hash value for a given vector.\"\"\"\n",
    "        return tuple((torch.matmul(self.hyperplanes, vector) > 0).int().tolist())\n",
    "    \n",
    "    def insert(self, vector, identifier):\n",
    "        \"\"\"Insert a vector with an identifier into the hash table.\"\"\"\n",
    "        hash_value = self._hash(vector)\n",
    "        self.hash_table[hash_value].append((identifier, vector))\n",
    "    \n",
    "    def query(self, vector, k):\n",
    "        \"\"\"Find k approximate nearest neighbors for a given vector.\"\"\"\n",
    "        hash_value = self._hash(vector)\n",
    "        candidates = set()\n",
    "        \n",
    "        # Get nearest neighbors from hash table\n",
    "        sorted_buckets = sorted(self.hash_table.keys(), key=lambda h: sum(a != b for a, b in zip(h, hash_value)))\n",
    "        for bucket in sorted_buckets:\n",
    "            if len(candidates) >= k:\n",
    "                break\n",
    "            candidates.update(self.hash_table[bucket])\n",
    "        \n",
    "        # If we have more than k, randomly select k\n",
    "        return random.sample(candidates, k) if len(candidates) > k else list(candidates)\n",
    "\n",
    "    def plot_bucket_distribution(self):\n",
    "        \"\"\"Plot the frequency of samples in each bucket.\"\"\"\n",
    "        bucket_labels = list(self.hash_table.keys())\n",
    "        bucket_sizes = [len(self.hash_table[b]) for b in bucket_labels]\n",
    "        \n",
    "        plt.figure(figsize=(12, 6))\n",
    "        plt.bar(range(len(bucket_labels)), bucket_sizes, tick_label=[str(b) for b in bucket_labels])\n",
    "        plt.xlabel(\"Bucket Hash Values\")\n",
    "        plt.ylabel(\"Number of Samples\")\n",
    "        plt.title(\"Frequency of Samples in Each Bucket\")\n",
    "        plt.xticks(rotation=90)\n",
    "        plt.show()\n",
    "\n",
    "# Example usage\n",
    "dim = 128  # Dimension of vectors\n",
    "num_bits = 10  # Number of hash functions\n",
    "lsh = LSH(num_bits, dim)\n",
    "\n",
    "# Load train embeddings from file\n",
    "train_embeddings = torch.load(\"./srcFiles/train_embeddings.pth\")\n",
    "for i, vec in enumerate(train_embeddings):\n",
    "    lsh.insert(vec, i)\n",
    "\n",
    "# Query with a new vector\n",
    "# query_vector = torch.randn(dim)\n",
    "# neighbors = lsh.query(query_vector, k=5)\n",
    "# print(\"Approximate Neighbors:\", neighbors)\n",
    "\n",
    "# Plot bucket distribution\n",
    "lsh.plot_bucket_distribution()"
   ]
  }
 ],
 "metadata": {
  "kernelspec": {
   "display_name": ".venv",
   "language": "python",
   "name": "python3"
  },
  "language_info": {
   "codemirror_mode": {
    "name": "ipython",
    "version": 3
   },
   "file_extension": ".py",
   "mimetype": "text/x-python",
   "name": "python",
   "nbconvert_exporter": "python",
   "pygments_lexer": "ipython3",
   "version": "3.11.2"
  }
 },
 "nbformat": 4,
 "nbformat_minor": 2
}
